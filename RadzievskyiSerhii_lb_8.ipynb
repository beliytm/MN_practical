{
 "cells": [
  {
   "cell_type": "code",
   "execution_count": 1,
   "id": "bf6e58db",
   "metadata": {},
   "outputs": [
    {
     "name": "stdout",
     "output_type": "stream",
     "text": [
      "Requirement already satisfied: scikit-surprise in c:\\users\\user\\anaconda3\\lib\\site-packages (1.1.3)\n",
      "Requirement already satisfied: scipy>=1.3.2 in c:\\users\\user\\anaconda3\\lib\\site-packages (from scikit-surprise) (1.10.0)\n",
      "Requirement already satisfied: joblib>=1.0.0 in c:\\users\\user\\anaconda3\\lib\\site-packages (from scikit-surprise) (1.1.1)\n",
      "Requirement already satisfied: numpy>=1.17.3 in c:\\users\\user\\anaconda3\\lib\\site-packages (from scikit-surprise) (1.23.5)\n"
     ]
    }
   ],
   "source": [
    "!pip install scikit-surprise"
   ]
  },
  {
   "cell_type": "code",
   "execution_count": 2,
   "id": "6ecca18a",
   "metadata": {},
   "outputs": [],
   "source": [
    "from surprise import SVD\n",
    "from surprise import Dataset\n",
    "from surprise.model_selection import cross_validate\n",
    "import matplotlib.pyplot as plt\n",
    "from surprise import SVDpp, NMF\n",
    "from surprise import Reader\n",
    "from surprise import KNNBasic, KNNWithZScore"
   ]
  },
  {
   "cell_type": "code",
   "execution_count": 3,
   "id": "3cb3ebf9",
   "metadata": {},
   "outputs": [],
   "source": [
    "data = Dataset.load_builtin('ml-100k')"
   ]
  },
  {
   "cell_type": "code",
   "execution_count": 4,
   "id": "fc4e2859",
   "metadata": {},
   "outputs": [],
   "source": [
    "svd = SVD()\n",
    "svdpp = SVDpp()\n",
    "nmf = NMF()\n",
    "knn_b = KNNBasic()\n",
    "knn_w = KNNWithZScore()"
   ]
  },
  {
   "cell_type": "code",
   "execution_count": 5,
   "id": "b59b965d",
   "metadata": {},
   "outputs": [
    {
     "name": "stdout",
     "output_type": "stream",
     "text": [
      "Evaluating RMSE of algorithm SVD on 3 split(s).\n",
      "\n",
      "                  Fold 1  Fold 2  Fold 3  Mean    Std     \n",
      "RMSE (testset)    0.9433  0.9508  0.9471  0.9471  0.0030  \n",
      "Fit time          1.90    2.02    1.75    1.89    0.11    \n",
      "Test time         0.67    0.56    0.70    0.64    0.06    \n",
      "Evaluating RMSE of algorithm SVDpp on 3 split(s).\n",
      "\n",
      "                  Fold 1  Fold 2  Fold 3  Mean    Std     \n",
      "RMSE (testset)    0.9266  0.9212  0.9309  0.9263  0.0040  \n",
      "Fit time          30.54   30.92   26.39   29.28   2.05    \n",
      "Test time         13.27   10.32   10.97   11.52   1.27    \n",
      "Evaluating RMSE of algorithm NMF on 3 split(s).\n",
      "\n",
      "                  Fold 1  Fold 2  Fold 3  Mean    Std     \n",
      "RMSE (testset)    0.9818  0.9684  0.9782  0.9761  0.0057  \n",
      "Fit time          2.15    2.40    3.08    2.55    0.39    \n",
      "Test time         0.47    0.59    0.59    0.55    0.06    \n",
      "Computing the msd similarity matrix...\n",
      "Done computing similarity matrix.\n",
      "Computing the msd similarity matrix...\n",
      "Done computing similarity matrix.\n",
      "Computing the msd similarity matrix...\n",
      "Done computing similarity matrix.\n",
      "Evaluating RMSE of algorithm KNNBasic on 3 split(s).\n",
      "\n",
      "                  Fold 1  Fold 2  Fold 3  Mean    Std     \n",
      "RMSE (testset)    0.9889  0.9920  0.9845  0.9885  0.0031  \n",
      "Fit time          0.73    0.54    0.54    0.60    0.09    \n",
      "Test time         7.60    9.33    7.22    8.05    0.92    \n",
      "Computing the msd similarity matrix...\n",
      "Done computing similarity matrix.\n",
      "Computing the msd similarity matrix...\n",
      "Done computing similarity matrix.\n",
      "Computing the msd similarity matrix...\n",
      "Done computing similarity matrix.\n",
      "Evaluating RMSE of algorithm KNNWithZScore on 3 split(s).\n",
      "\n",
      "                  Fold 1  Fold 2  Fold 3  Mean    Std     \n",
      "RMSE (testset)    0.9679  0.9550  0.9512  0.9580  0.0071  \n",
      "Fit time          0.90    0.70    1.03    0.88    0.14    \n",
      "Test time         10.36   9.60    8.94    9.63    0.58    \n"
     ]
    }
   ],
   "source": [
    "_svd = cross_validate(svd, data, measures=['RMSE'], cv=3, verbose=True)\n",
    "_svdpp = cross_validate(svdpp, data, measures=['RMSE'], cv=3, verbose=True)\n",
    "_nmf = cross_validate(nmf, data, measures=['RMSE'], cv=3, verbose=True)\n",
    "_knn_b = cross_validate(knn_b, data, measures=['RMSE'], cv=3, verbose=True)\n",
    "_knn_w  = cross_validate(knn_w, data, measures=['RMSE'], cv=3, verbose=True)"
   ]
  },
  {
   "cell_type": "code",
   "execution_count": 6,
   "id": "e6594bfd",
   "metadata": {},
   "outputs": [
    {
     "name": "stdout",
     "output_type": "stream",
     "text": [
      "SVD RMSE: 0.9470852834808791\n",
      "SVDpp RMSE: 0.9262522828138572\n",
      "NMF RMSE: 0.9761480239483733\n",
      "KNNBasic RMSE: 0.9884827569451126\n",
      "KNNWithZScore RMSE: 0.9580240044347242\n"
     ]
    }
   ],
   "source": [
    "meanSVD = _svd['test_rmse'].mean()\n",
    "print(\"SVD RMSE:\", meanSVD)\n",
    "meanSVDpp = _svdpp['test_rmse'].mean()\n",
    "print(\"SVDpp RMSE:\", meanSVDpp)\n",
    "meanNMF = _nmf['test_rmse'].mean()\n",
    "print(\"NMF RMSE:\", meanNMF)\n",
    "meanKNNBasic = _knn_b['test_rmse'].mean()\n",
    "print(\"KNNBasic RMSE:\", meanKNNBasic)\n",
    "meanKNNWithZScore = _knn_w['test_rmse'].mean()\n",
    "print(\"KNNWithZScore RMSE:\", meanKNNWithZScore)"
   ]
  },
  {
   "cell_type": "code",
   "execution_count": 7,
   "id": "8bcd499d",
   "metadata": {},
   "outputs": [
    {
     "data": {
      "image/png": "[encoded data removed]",
      "text/plain": [
       "<Figure size 640x480 with 1 Axes>"
      ]
     },
     "metadata": {},
     "output_type": "display_data"
    }
   ],
   "source": [
    "algorithms = [meanSVD, meanSVDpp, meanNMF, meanKNNBasic, meanKNNWithZScore]\n",
    "algorithm_names = [\"SVD\", \"SVDpp\", \"NMF\", \"KNNBasic\", \"KNNWithZScore\"]\n",
    "plt.bar(algorithm_names, algorithms, color = ['yellow', 'red', 'blue', 'green', 'orange'])\n",
    "plt.xlabel('Algorithms')\n",
    "plt.ylabel('RMSE')\n",
    "plt.title('Comparison of algorithms')\n",
    "plt.show()"
   ]
  },
  {
   "cell_type": "markdown",
   "id": "50ca4790",
   "metadata": {},
   "source": [
    "Після аналізу та порівняння результатів, ми можемо зробити висновок про кращий алгоритм рекомендації для нашого датасету movielens-100k.Алгоритм SVDpp з найменшим значенням RMSE  в крос-валідації є найкращим для рекомендпційної системи."
   ]
  }
 ],
 "metadata": {
  "kernelspec": {
   "display_name": "Python 3 (ipykernel)",
   "language": "python",
   "name": "python3"
  },
  "language_info": {
   "codemirror_mode": {
    "name": "ipython",
    "version": 3
   },
   "file_extension": ".py",
   "mimetype": "text/x-python",
   "name": "python",
   "nbconvert_exporter": "python",
   "pygments_lexer": "ipython3",
   "version": "3.10.9"
  }
 },
 "nbformat": 4,
 "nbformat_minor": 5
}
